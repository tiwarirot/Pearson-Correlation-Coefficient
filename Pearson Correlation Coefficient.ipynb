{
 "cells": [
  {
   "cell_type": "code",
   "execution_count": null,
   "metadata": {},
   "outputs": [],
   "source": [
    "# Given two n-element data sets, X and Y, calculate the value of the Pearson correlation coefficient."
   ]
  },
  {
   "cell_type": "code",
   "execution_count": 11,
   "metadata": {},
   "outputs": [
    {
     "name": "stdout",
     "output_type": "stream",
     "text": [
      "10\n",
      "10 9.8 8 7.8 7.7 7 6 5 4 2\n",
      "200 44 32 24 22 17 15 12 8 4\n",
      "0.612\n"
     ]
    }
   ],
   "source": [
    "#Approach 1\n",
    "from scipy.stats import pearsonr\n",
    "n = int(input())\n",
    "X = list(map(float, input().split()))\n",
    "Y = list(map(float, input().split()))\n",
    "corr, _ = pearsonr(X, Y)\n",
    "print('{:.3f}'.format(corr))"
   ]
  },
  {
   "cell_type": "code",
   "execution_count": 5,
   "metadata": {},
   "outputs": [],
   "source": [
    "#Approach 2\n",
    "N = int(input())\n",
    "X = list(map(float,input().strip().split()))\n",
    "Y = list(map(float,input().strip().split()))\n",
    "\n",
    "mu_x = sum(X) / N\n",
    "mu_y = sum(Y) / N\n",
    "\n",
    "stdv_x = (sum([(i - mu_x)**2 for i in X]) / N)**0.5\n",
    "stdv_y = (sum([(i - mu_y)**2 for i in Y]) / N)**0.5\n",
    "\n",
    "\n",
    "covariance = sum([(X[i] - mu_x) * (Y[i] -mu_y) for i in range(N)])\n",
    "\n",
    "correlation_coefficient = covariance / (N * stdv_x * stdv_y)\n",
    "\n",
    "print(round(correlation_coefficient,3))"
   ]
  }
 ],
 "metadata": {
  "kernelspec": {
   "display_name": "Python 3",
   "language": "python",
   "name": "python3"
  },
  "language_info": {
   "codemirror_mode": {
    "name": "ipython",
    "version": 3
   },
   "file_extension": ".py",
   "mimetype": "text/x-python",
   "name": "python",
   "nbconvert_exporter": "python",
   "pygments_lexer": "ipython3",
   "version": "3.6.5"
  }
 },
 "nbformat": 4,
 "nbformat_minor": 2
}
